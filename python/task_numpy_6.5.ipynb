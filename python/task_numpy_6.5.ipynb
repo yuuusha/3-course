{
 "cells": [
  {
   "cell_type": "code",
   "execution_count": 28,
   "id": "c0074385",
   "metadata": {},
   "outputs": [
    {
     "name": "stdout",
     "output_type": "stream",
     "text": [
      "11. Найти сумму элементов матрицы.\n"
     ]
    }
   ],
   "source": [
    "import numpy as np\n",
    "import timeit\n",
    "\n",
    "print(\"11. Найти сумму элементов матрицы.\")\n",
    "\n",
    "def matrix_sum():\n",
    "    return np.sum(matrix)\n",
    "\n",
    "matrix = np.random.randint(-100000, 100000, size=(10000, 10000))"
   ]
  },
  {
   "cell_type": "code",
   "execution_count": 29,
   "id": "fc1c62c5",
   "metadata": {},
   "outputs": [
    {
     "name": "stdout",
     "output_type": "stream",
     "text": [
      "0.044665119999990566\n"
     ]
    }
   ],
   "source": [
    "ex_time = timeit.timeit(matrix_sum, number=10)\n",
    "print(ex_time/10)"
   ]
  }
 ],
 "metadata": {
  "kernelspec": {
   "display_name": "Python 3 (ipykernel)",
   "language": "python",
   "name": "python3"
  },
  "language_info": {
   "codemirror_mode": {
    "name": "ipython",
    "version": 3
   },
   "file_extension": ".py",
   "mimetype": "text/x-python",
   "name": "python",
   "nbconvert_exporter": "python",
   "pygments_lexer": "ipython3",
   "version": "3.10.9"
  }
 },
 "nbformat": 4,
 "nbformat_minor": 5
}
